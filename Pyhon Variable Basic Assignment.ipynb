{
 "cells": [
  {
   "cell_type": "raw",
   "id": "50d33273-959b-4195-a944-fe0b61e983b0",
   "metadata": {},
   "source": [
    "Q1. Use descriptive and meaningful names that reflect the purpose or content of the variable. Variable names should be written in lowercase letters, and multiple words can be separated using underscores (snake_case). Avoid using reserved keywords or built-in function names as variable names."
   ]
  },
  {
   "cell_type": "raw",
   "id": "aea50c9a-1321-4b72-b261-50849cacf182",
   "metadata": {},
   "source": [
    "Q2. Syntax Error"
   ]
  },
  {
   "cell_type": "raw",
   "id": "279bab0e-2afb-4d15-a445-900313349716",
   "metadata": {},
   "source": [
    "Q3. Yes We can "
   ]
  },
  {
   "cell_type": "code",
   "execution_count": 2,
   "id": "3c294256-70ef-459f-9f98-ea628fe5d483",
   "metadata": {},
   "outputs": [],
   "source": [
    "#Q4. Yes\n",
    "_ = 4\n"
   ]
  },
  {
   "cell_type": "code",
   "execution_count": 3,
   "id": "8136263a-76bd-4363-9aa9-461cd3a8e79a",
   "metadata": {},
   "outputs": [
    {
     "data": {
      "text/plain": [
       "4"
      ]
     },
     "execution_count": 3,
     "metadata": {},
     "output_type": "execute_result"
    }
   ],
   "source": [
    "_\n"
   ]
  },
  {
   "cell_type": "raw",
   "id": "fb09266d-f019-4a4d-a0f5-6b72d8d7957b",
   "metadata": {},
   "source": [
    "#Q5. Below we can see how pyton variables can be dynamic as it can be int, string, float, bool."
   ]
  },
  {
   "cell_type": "code",
   "execution_count": null,
   "id": "8eb7f02d-4230-4938-819b-a823b1f1bccc",
   "metadata": {},
   "outputs": [],
   "source": [
    "x = 24"
   ]
  },
  {
   "cell_type": "code",
   "execution_count": 5,
   "id": "eb168804-0620-4458-a576-b898f5e64ca8",
   "metadata": {},
   "outputs": [
    {
     "data": {
      "text/plain": [
       "24"
      ]
     },
     "execution_count": 5,
     "metadata": {},
     "output_type": "execute_result"
    }
   ],
   "source": [
    "x"
   ]
  },
  {
   "cell_type": "code",
   "execution_count": 6,
   "id": "06debb05-237d-4c8b-937a-90455bd79432",
   "metadata": {},
   "outputs": [
    {
     "data": {
      "text/plain": [
       "int"
      ]
     },
     "execution_count": 6,
     "metadata": {},
     "output_type": "execute_result"
    }
   ],
   "source": [
    "type(x)\n"
   ]
  },
  {
   "cell_type": "code",
   "execution_count": 7,
   "id": "f2e5cfb6-ff44-4ad8-8efa-b789e6fc9a37",
   "metadata": {},
   "outputs": [],
   "source": [
    "x = 'yash'"
   ]
  },
  {
   "cell_type": "code",
   "execution_count": 8,
   "id": "484a35cf-bc4e-4532-bd33-836c4d91d224",
   "metadata": {},
   "outputs": [
    {
     "data": {
      "text/plain": [
       "'yash'"
      ]
     },
     "execution_count": 8,
     "metadata": {},
     "output_type": "execute_result"
    }
   ],
   "source": [
    "x"
   ]
  },
  {
   "cell_type": "code",
   "execution_count": 9,
   "id": "f02d90a5-f5c2-4098-bfcc-6ac2b88a4063",
   "metadata": {},
   "outputs": [
    {
     "data": {
      "text/plain": [
       "str"
      ]
     },
     "execution_count": 9,
     "metadata": {},
     "output_type": "execute_result"
    }
   ],
   "source": [
    "type(x)"
   ]
  },
  {
   "cell_type": "code",
   "execution_count": 10,
   "id": "56dc77f8-ef23-4851-9589-1bde2a6e05b7",
   "metadata": {},
   "outputs": [],
   "source": [
    "x = 23.56"
   ]
  },
  {
   "cell_type": "code",
   "execution_count": 11,
   "id": "3f93b6db-0a92-4fc9-af23-59ff93d14155",
   "metadata": {},
   "outputs": [
    {
     "data": {
      "text/plain": [
       "23.56"
      ]
     },
     "execution_count": 11,
     "metadata": {},
     "output_type": "execute_result"
    }
   ],
   "source": [
    "x"
   ]
  },
  {
   "cell_type": "code",
   "execution_count": 12,
   "id": "8c986c04-c2f6-4f07-aeae-566d55d9b197",
   "metadata": {},
   "outputs": [
    {
     "data": {
      "text/plain": [
       "float"
      ]
     },
     "execution_count": 12,
     "metadata": {},
     "output_type": "execute_result"
    }
   ],
   "source": [
    "type (x)"
   ]
  },
  {
   "cell_type": "code",
   "execution_count": 13,
   "id": "7d74e10b-eaea-4e38-926c-563c537617f3",
   "metadata": {},
   "outputs": [],
   "source": [
    "x = True"
   ]
  },
  {
   "cell_type": "code",
   "execution_count": 14,
   "id": "cfac9078-f042-4843-9167-0fa6467c955d",
   "metadata": {},
   "outputs": [
    {
     "data": {
      "text/plain": [
       "True"
      ]
     },
     "execution_count": 14,
     "metadata": {},
     "output_type": "execute_result"
    }
   ],
   "source": [
    "x"
   ]
  },
  {
   "cell_type": "code",
   "execution_count": 15,
   "id": "d8933817-c488-4782-8daf-cb4126cca0a0",
   "metadata": {},
   "outputs": [
    {
     "data": {
      "text/plain": [
       "bool"
      ]
     },
     "execution_count": 15,
     "metadata": {},
     "output_type": "execute_result"
    }
   ],
   "source": [
    "type(x)"
   ]
  },
  {
   "cell_type": "code",
   "execution_count": null,
   "id": "e63cec9d-7a8c-4194-9ff3-d249278738c3",
   "metadata": {},
   "outputs": [],
   "source": []
  }
 ],
 "metadata": {
  "kernelspec": {
   "display_name": "Python 3 (ipykernel)",
   "language": "python",
   "name": "python3"
  },
  "language_info": {
   "codemirror_mode": {
    "name": "ipython",
    "version": 3
   },
   "file_extension": ".py",
   "mimetype": "text/x-python",
   "name": "python",
   "nbconvert_exporter": "python",
   "pygments_lexer": "ipython3",
   "version": "3.10.8"
  }
 },
 "nbformat": 4,
 "nbformat_minor": 5
}
